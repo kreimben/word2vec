{
 "cells": [
  {
   "cell_type": "markdown",
   "source": [
    "# Word2Vec CBOW and Skipgram\n",
    "## written by: [Jehwan Kim](github.com/kreimben)\n",
    "## date: 10th Feb 2024 ~ 12th Feb 2024\n",
    "## corpus data: [kaggle](https://www.kaggle.com/datasets/junbumlee/kcbert-pretraining-corpus-korean-news-comments?resource=download)"
   ],
   "metadata": {
    "collapsed": false
   },
   "id": "53003f90da50f342"
  },
  {
   "cell_type": "code",
   "outputs": [],
   "source": [
    "import pickle\n",
    "\n",
    "from icecream import ic\n",
    "\n",
    "from src.util import *\n",
    "from soynlp import DoublespaceLineCorpus"
   ],
   "metadata": {
    "collapsed": false,
    "ExecuteTime": {
     "end_time": "2024-02-11T02:06:15.514836700Z",
     "start_time": "2024-02-11T02:06:14.952769400Z"
    }
   },
   "id": "c4a8eccd365ca442",
   "execution_count": 1
  },
  {
   "cell_type": "markdown",
   "source": [
    "# Data Preprocessing\n",
    "\n",
    "According to datasets from kaggle, It is already cleaned data. So I will use it directly."
   ],
   "metadata": {
    "collapsed": false
   },
   "id": "92fac49a979e9b9"
  },
  {
   "cell_type": "code",
   "outputs": [],
   "source": [
    "# # Dataset example\n",
    "# count = 10\n",
    "# data = get_data()\n",
    "# while count:\n",
    "#     ic(next(data))\n",
    "#     count -= 1"
   ],
   "metadata": {
    "collapsed": false,
    "ExecuteTime": {
     "end_time": "2024-02-11T02:06:15.532840300Z",
     "start_time": "2024-02-11T02:06:15.514836700Z"
    }
   },
   "id": "48d02dd68884bf7a",
   "execution_count": 2
  },
  {
   "cell_type": "markdown",
   "source": [
    "Of course there are great library `KoNLPy`, But I found more accurate library [`soynlp`](https://github.com/lovit/soynlp) so I will use that.\n",
    "soynlp learns new words automatically and calculate words statistically.\n",
    "soynlp use `Cohesion score`, `Branching Entropy` and `Accessor Variety` internally."
   ],
   "metadata": {
    "collapsed": false
   },
   "id": "5776509461ba8b05"
  },
  {
   "cell_type": "code",
   "outputs": [
    {
     "data": {
      "text/plain": "100000"
     },
     "execution_count": 3,
     "metadata": {},
     "output_type": "execute_result"
    }
   ],
   "source": [
    "corpus = DoublespaceLineCorpus(\"data.txt\", iter_sent=True, num_sent=100_000)\n",
    "len(corpus)"
   ],
   "metadata": {
    "collapsed": false,
    "ExecuteTime": {
     "end_time": "2024-02-11T02:06:15.646367900Z",
     "start_time": "2024-02-11T02:06:15.530839600Z"
    }
   },
   "id": "51dda3fca1f31eef",
   "execution_count": 3
  },
  {
   "cell_type": "code",
   "outputs": [],
   "source": [
    "# to save the object cuz it consumes a lot of times!\n",
    "with open('data.pkl', 'wb') as f:\n",
    "    pickle.dump(corpus, f)"
   ],
   "metadata": {
    "collapsed": false,
    "ExecuteTime": {
     "end_time": "2024-02-11T02:06:15.675374600Z",
     "start_time": "2024-02-11T02:06:15.643367500Z"
    }
   },
   "id": "1a5aadd13a7a7eb5",
   "execution_count": 4
  },
  {
   "cell_type": "code",
   "outputs": [],
   "source": [
    "# # load data object from pickle\n",
    "# # if you don't have a txt file data from kaggle, uncomment it and load the object.\n",
    "# with open('data.pkl', 'rb') as f:\n",
    "#     corpus: DoublespaceLineCorpus = pickle.load(f)"
   ],
   "metadata": {
    "collapsed": false,
    "ExecuteTime": {
     "end_time": "2024-02-11T02:06:15.677375600Z",
     "start_time": "2024-02-11T02:06:15.659371600Z"
    }
   },
   "id": "4c273df6b8dfad1f",
   "execution_count": 5
  },
  {
   "cell_type": "code",
   "outputs": [
    {
     "name": "stdout",
     "output_type": "stream",
     "text": [
      "0 우리에게 북한은 꼭 없애야 할 적일뿐\n",
      "1 문재앙 탄핵 원하면 추천 눌러주세요!! 여론의 힘을 보여줍시다\n",
      "2 김정은이 트럼프를 개호구 문재인으로 착각했나봄ㅋㅋ\n",
      "3 부칸이 밑장빼기하다가 딱 걸렸군\n",
      "4 북한 욕하면 친일이란 그딴 사고방식은 김일성 종합대학에서 배웠니? ㅋㅋ\n"
     ]
    }
   ],
   "source": [
    "i = 0\n",
    "for d in corpus:\n",
    "    print(i, d)\n",
    "    i += 1\n",
    "    if i > 4:\n",
    "        break"
   ],
   "metadata": {
    "collapsed": false,
    "ExecuteTime": {
     "end_time": "2024-02-11T02:06:15.693884500Z",
     "start_time": "2024-02-11T02:06:15.675374600Z"
    }
   },
   "id": "5d96b4ef74587056",
   "execution_count": 6
  },
  {
   "cell_type": "code",
   "outputs": [
    {
     "name": "stdout",
     "output_type": "stream",
     "text": [
      "training was done. used memory 0.660 Gbmory 0.113 Gb\n"
     ]
    }
   ],
   "source": [
    "from soynlp.word import WordExtractor\n",
    "\n",
    "word_extractor = WordExtractor()\n",
    "word_extractor.train(corpus)"
   ],
   "metadata": {
    "collapsed": false,
    "ExecuteTime": {
     "end_time": "2024-02-11T02:06:25.652781800Z",
     "start_time": "2024-02-11T02:06:15.690379300Z"
    }
   },
   "id": "849b6bcc9e2e95a5",
   "execution_count": 7
  },
  {
   "cell_type": "code",
   "outputs": [],
   "source": [
    "# to save the trained object\n",
    "with open('word_extractor.pkl', 'wb') as f:\n",
    "    pickle.dump(word_extractor, f)"
   ],
   "metadata": {
    "collapsed": false,
    "ExecuteTime": {
     "end_time": "2024-02-11T02:06:25.890842600Z",
     "start_time": "2024-02-11T02:06:25.652781800Z"
    }
   },
   "id": "e3c5789faace7b27",
   "execution_count": 8
  },
  {
   "cell_type": "code",
   "outputs": [],
   "source": [
    "# # to load the trained object\n",
    "# with open('word_extractor.pkl', 'rb') as f:\n",
    "#     word_extractor = pickle.load(f)"
   ],
   "metadata": {
    "collapsed": false,
    "ExecuteTime": {
     "end_time": "2024-02-11T02:06:25.906348700Z",
     "start_time": "2024-02-11T02:06:25.889842800Z"
    }
   },
   "id": "163bb359a9dee6c7",
   "execution_count": 9
  },
  {
   "cell_type": "code",
   "outputs": [
    {
     "name": "stdout",
     "output_type": "stream",
     "text": [
      "all cohesion probabilities was computed. # words = 97511\n",
      "all branching entropies was computed # words = 127443\n",
      "all accessor variety was computed # words = 127443\n"
     ]
    }
   ],
   "source": [
    "# to check the score of each method.\n",
    "word_score = word_extractor.extract()"
   ],
   "metadata": {
    "collapsed": false,
    "ExecuteTime": {
     "end_time": "2024-02-11T02:06:28.939775700Z",
     "start_time": "2024-02-11T02:06:25.908349600Z"
    }
   },
   "id": "48db24a451fe4734",
   "execution_count": 10
  },
  {
   "cell_type": "markdown",
   "source": [
    "## Cohension\n",
    "Cohesion은 문자열을 글자단위로 분리하여 부분문자열(substring)을 만들 때 왼쪽부터 문맥을 증가시키면서 각 문맥이 주어졌을 때 그 다음 글자가 나올 확률을 계산하여 누적곱을 한 값이다.\n",
    "\n",
    "![](img1.png)\n",
    "\n",
    "예를 들어 “연합뉴스가”라는 문자열이 있는 경우, 각 부분문자열의 cohesion은 다음과 같다. 한 글자는 cohesion을 계산하지 않는다.\n",
    "\n",
    "![](img2.png)\n",
    "\n",
    "하나의 단어를 중간에서 나눈 경우, 다음 글자를 예측하기 쉬우므로 조건부확률의 값은 크다. 하지만 단어가 종료된 다음에 여러가지 조사나 결합어가 오는 경우에는 다양한 경우가 가능하므로 조건부확률의 값이 작아진다. 따라서 cohesion값이 가장 큰 위치가 하나의 단어를 이루고 있을 가능성이 높다."
   ],
   "metadata": {
    "collapsed": false
   },
   "id": "1a1993798c54a138"
  },
  {
   "cell_type": "code",
   "outputs": [
    {
     "data": {
      "text/plain": "0"
     },
     "execution_count": 11,
     "metadata": {},
     "output_type": "execute_result"
    }
   ],
   "source": [
    "word_score[\"문\"].cohesion_forward"
   ],
   "metadata": {
    "collapsed": false,
    "ExecuteTime": {
     "end_time": "2024-02-11T02:06:28.957781100Z",
     "start_time": "2024-02-11T02:06:28.939775700Z"
    }
   },
   "id": "76bb8222630db1b5",
   "execution_count": 11
  },
  {
   "cell_type": "code",
   "outputs": [
    {
     "data": {
      "text/plain": "0.4949096880131363"
     },
     "execution_count": 12,
     "metadata": {},
     "output_type": "execute_result"
    }
   ],
   "source": [
    "word_score[\"문재\"].cohesion_forward"
   ],
   "metadata": {
    "collapsed": false,
    "ExecuteTime": {
     "end_time": "2024-02-11T02:06:28.997292Z",
     "start_time": "2024-02-11T02:06:28.955780Z"
    }
   },
   "id": "49c16772e392193f",
   "execution_count": 12
  },
  {
   "cell_type": "code",
   "outputs": [
    {
     "data": {
      "text/plain": "0.5462859478807616"
     },
     "execution_count": 13,
     "metadata": {},
     "output_type": "execute_result"
    }
   ],
   "source": [
    "word_score[\"문재인\"].cohesion_forward"
   ],
   "metadata": {
    "collapsed": false,
    "ExecuteTime": {
     "end_time": "2024-02-11T02:06:28.998293200Z",
     "start_time": "2024-02-11T02:06:28.971784200Z"
    }
   },
   "id": "11e8d0b595ef1c98",
   "execution_count": 13
  },
  {
   "cell_type": "code",
   "outputs": [
    {
     "data": {
      "text/plain": "0.3348124123339889"
     },
     "execution_count": 14,
     "metadata": {},
     "output_type": "execute_result"
    }
   ],
   "source": [
    "word_score[\"문재인은\"].cohesion_forward"
   ],
   "metadata": {
    "collapsed": false,
    "ExecuteTime": {
     "end_time": "2024-02-11T02:06:29.016297800Z",
     "start_time": "2024-02-11T02:06:28.988787700Z"
    }
   },
   "id": "b9725bb4e56ba4d",
   "execution_count": 14
  },
  {
   "cell_type": "code",
   "outputs": [
    {
     "data": {
      "text/plain": "0.3612658483803572"
     },
     "execution_count": 15,
     "metadata": {},
     "output_type": "execute_result"
    }
   ],
   "source": [
    "word_score[\"문재인이\"].cohesion_forward"
   ],
   "metadata": {
    "collapsed": false,
    "ExecuteTime": {
     "end_time": "2024-02-11T02:06:29.057306400Z",
     "start_time": "2024-02-11T02:06:29.003294500Z"
    }
   },
   "id": "c847426ffcb0e8f1",
   "execution_count": 15
  },
  {
   "cell_type": "markdown",
   "source": [
    "## Branching Entropy\n",
    "Branching Entropy는 조건부 확률의 값이 아니라 확률분포의 엔트로피값을 사용한다. \n",
    "만약 하나의 단어를 중간에서 끊으면 다음에 나올 글자는 쉽게 예측이 가능하다. \n",
    "즉, 여러가지 글자 중 특정한 하나의 글자가 확률이 높다. 따라서 엔트로피값이 0에 가까운 값으로 작아진다. \n",
    "하지만 하나의 단어가 완결되는 위치에는 다양한 조사나 결합어가 올 수 있으므로 여러가지 글자의 확률이 비슷하게 나오고 따라서 엔트로피값이 높아진다."
   ],
   "metadata": {
    "collapsed": false
   },
   "id": "97e611b4093f6465"
  },
  {
   "cell_type": "code",
   "outputs": [
    {
     "data": {
      "text/plain": "2.4450386362198486"
     },
     "execution_count": 16,
     "metadata": {},
     "output_type": "execute_result"
    }
   ],
   "source": [
    "word_score[\"문\"].right_branching_entropy"
   ],
   "metadata": {
    "collapsed": false,
    "ExecuteTime": {
     "end_time": "2024-02-11T02:06:29.058306600Z",
     "start_time": "2024-02-11T02:06:29.020298300Z"
    }
   },
   "id": "dfb4ef3fe2d028e2",
   "execution_count": 16
  },
  {
   "cell_type": "code",
   "outputs": [
    {
     "data": {
      "text/plain": "0.7074179283172034"
     },
     "execution_count": 17,
     "metadata": {},
     "output_type": "execute_result"
    }
   ],
   "source": [
    "# '핵실' 다음에는 항상 '험'만 나온다.\n",
    "word_score[\"문재\"].right_branching_entropy"
   ],
   "metadata": {
    "collapsed": false,
    "ExecuteTime": {
     "end_time": "2024-02-11T02:06:29.094315500Z",
     "start_time": "2024-02-11T02:06:29.035301200Z"
    }
   },
   "id": "fa332d2e8a6be497",
   "execution_count": 17
  },
  {
   "cell_type": "code",
   "outputs": [
    {
     "data": {
      "text/plain": "3.9991897482260663"
     },
     "execution_count": 18,
     "metadata": {},
     "output_type": "execute_result"
    }
   ],
   "source": [
    "word_score[\"문재인\"].right_branching_entropy"
   ],
   "metadata": {
    "collapsed": false,
    "ExecuteTime": {
     "end_time": "2024-02-11T02:06:29.096819Z",
     "start_time": "2024-02-11T02:06:29.052305100Z"
    }
   },
   "id": "7af6e6dab0c9af47",
   "execution_count": 18
  },
  {
   "cell_type": "code",
   "outputs": [
    {
     "data": {
      "text/plain": "4.188755484433024"
     },
     "execution_count": 19,
     "metadata": {},
     "output_type": "execute_result"
    }
   ],
   "source": [
    "word_score[\"문재인은\"].right_branching_entropy"
   ],
   "metadata": {
    "collapsed": false,
    "ExecuteTime": {
     "end_time": "2024-02-11T02:06:29.097820500Z",
     "start_time": "2024-02-11T02:06:29.067308700Z"
    }
   },
   "id": "42971d7f89af352c",
   "execution_count": 19
  },
  {
   "cell_type": "markdown",
   "source": [
    "# Accessor Variety\n",
    "Accessor Variety는 확률분포를 구하지 않고 단순히 특정 문자열 다음에 나올 수 있는 글자의 종류만 계산한다. \n",
    "글자의 종류가 많다면 엔트로피가 높아지리 것이라고 추정하는 것이다."
   ],
   "metadata": {
    "collapsed": false
   },
   "id": "2808b441fd96ff9"
  },
  {
   "cell_type": "code",
   "outputs": [
    {
     "data": {
      "text/plain": "265"
     },
     "execution_count": 20,
     "metadata": {},
     "output_type": "execute_result"
    }
   ],
   "source": [
    "word_score[\"문\"].right_accessor_variety"
   ],
   "metadata": {
    "collapsed": false,
    "ExecuteTime": {
     "end_time": "2024-02-11T02:06:29.142830600Z",
     "start_time": "2024-02-11T02:06:29.084313500Z"
    }
   },
   "id": "ac81105c60d35c51",
   "execution_count": 20
  },
  {
   "cell_type": "code",
   "outputs": [
    {
     "data": {
      "text/plain": "9"
     },
     "execution_count": 21,
     "metadata": {},
     "output_type": "execute_result"
    }
   ],
   "source": [
    "# '핵실' 다음에는 항상 '험'만 나온다.\n",
    "word_score[\"문재\"].right_accessor_variety"
   ],
   "metadata": {
    "collapsed": false,
    "ExecuteTime": {
     "end_time": "2024-02-11T02:06:29.144831700Z",
     "start_time": "2024-02-11T02:06:29.099821Z"
    }
   },
   "id": "86601d057e6a8644",
   "execution_count": 21
  },
  {
   "cell_type": "code",
   "outputs": [
    {
     "data": {
      "text/plain": "277"
     },
     "execution_count": 22,
     "metadata": {},
     "output_type": "execute_result"
    }
   ],
   "source": [
    "word_score[\"문재인\"].right_accessor_variety"
   ],
   "metadata": {
    "collapsed": false,
    "ExecuteTime": {
     "end_time": "2024-02-11T02:06:29.177838500Z",
     "start_time": "2024-02-11T02:06:29.114824200Z"
    }
   },
   "id": "80aeac898eb0f857",
   "execution_count": 22
  },
  {
   "cell_type": "code",
   "outputs": [
    {
     "data": {
      "text/plain": "108"
     },
     "execution_count": 23,
     "metadata": {},
     "output_type": "execute_result"
    }
   ],
   "source": [
    "word_score[\"문재인은\"].right_accessor_variety"
   ],
   "metadata": {
    "collapsed": false,
    "ExecuteTime": {
     "end_time": "2024-02-11T02:06:29.179838700Z",
     "start_time": "2024-02-11T02:06:29.130827800Z"
    }
   },
   "id": "6aee271a9da733b6",
   "execution_count": 23
  },
  {
   "cell_type": "markdown",
   "source": [
    "We can assume the corpus is from social network and better `Max Score` tokenising for this corpus cuz it's not cultured writing.\n",
    "\n",
    "# Max Score Tokenising\n",
    "\n",
    "최대 점수 토큰화(max score tokenizing)는 띄어쓰기가 되어 있지 않는 긴 문자열에서 가능한 모든 종류의 부분문자열을 만들어서 가장 점수가 높은 것을 하나의 토큰으로 정한다. \n",
    "이 토큰을 제외하면 이 위치를 기준으로 전체 문자열이 다시 더 작은 문자열들로 나누어지는데 이 문자열들에 대해 다시 한번 가장 점수가 높은 부분문자열을 찾는 것을 반복한다. \n",
    "\n",
    "아래 예시는 극단적으로 제대로 띄어쓰기를 하지 않은 경우 사람조차 이해하기 힘든 예시들의 조합이다."
   ],
   "metadata": {
    "collapsed": false
   },
   "id": "e29a78a915c5809e"
  },
  {
   "cell_type": "code",
   "outputs": [
    {
     "data": {
      "text/plain": "['강한나고전의상실고추',\n '장조림관촉사',\n '거리고',\n '흥군수',\n '산업',\n '협동조합교수형그',\n '리스',\n '도교남구',\n '청소년',\n '도서관남동인더스파크',\n '농협',\n '용인',\n '육가공공장']"
     },
     "execution_count": 26,
     "metadata": {},
     "output_type": "execute_result"
    }
   ],
   "source": [
    "from soynlp.tokenizer import MaxScoreTokenizer\n",
    "\n",
    "scores = {word: score.cohesion_forward for word, score in word_score.items()}\n",
    "\n",
    "maxscore_tokenizer = MaxScoreTokenizer(scores=scores)\n",
    "maxscore_tokenizer.tokenize(\"강한나고전의상실고추장조림관촉사거리고흥군수산업협동조합교수형그리스도교남구청소년도서관남동인더스파크농협용인육가공공장\")"
   ],
   "metadata": {
    "collapsed": false,
    "ExecuteTime": {
     "end_time": "2024-02-11T02:10:11.325838400Z",
     "start_time": "2024-02-11T02:10:11.284828900Z"
    }
   },
   "id": "d2f7f2aa6bc2e46e",
   "execution_count": 26
  },
  {
   "cell_type": "code",
   "outputs": [],
   "source": [],
   "metadata": {
    "collapsed": false
   },
   "id": "7aee1013e0a76616"
  }
 ],
 "metadata": {
  "kernelspec": {
   "display_name": "Python 3",
   "language": "python",
   "name": "python3"
  },
  "language_info": {
   "codemirror_mode": {
    "name": "ipython",
    "version": 2
   },
   "file_extension": ".py",
   "mimetype": "text/x-python",
   "name": "python",
   "nbconvert_exporter": "python",
   "pygments_lexer": "ipython2",
   "version": "2.7.6"
  }
 },
 "nbformat": 4,
 "nbformat_minor": 5
}
